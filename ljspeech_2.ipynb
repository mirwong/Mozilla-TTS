{
 "cells": [
  {
   "cell_type": "code",
   "execution_count": 18,
   "metadata": {},
   "outputs": [],
   "source": [
    "import subprocess\n",
    "import sys\n",
    "import json\n",
    "\n",
    "def install(package):\n",
    "    subprocess.check_call([sys.executable, \"-m\", \"pip\", \"install\", package])"
   ]
  },
  {
   "cell_type": "code",
   "execution_count": 8,
   "metadata": {},
   "outputs": [],
   "source": [
    "install('inflect')\n",
    "install('librosa')"
   ]
  },
  {
   "cell_type": "code",
   "execution_count": 13,
   "metadata": {},
   "outputs": [],
   "source": [
    "from TTS.tts.datasets.preprocess import load_meta_data\n",
    "from TTS.tts.models.speedy_speech import SpeedySpeech\n",
    "from TTS.bin.train_speedy_speech import train\n",
    "from TTS.utils.io import load_config"
   ]
  },
  {
   "cell_type": "code",
   "execution_count": 14,
   "metadata": {},
   "outputs": [
    {
     "name": "stdout",
     "output_type": "stream",
     "text": [
      " | > Found 10477 files in /Users/mirielle/all_projects/text-to-speech/TTS/LJSpeech/LJSpeech-1.1\n"
     ]
    }
   ],
   "source": [
    "in_data = {'name': 'ljspeech',\n",
    "        'path': './LJSpeech/LJSpeech-1.1',\n",
    "        'meta_file_train': 'metadata_train.csv',\n",
    "        'meta_file_val': 'metadata_test.csv',\n",
    "        'meta_file_eval': 'metadata_test.csv'}\n",
    "\n",
    "data = load_meta_data([in_data])"
   ]
  },
  {
   "cell_type": "code",
   "execution_count": 15,
   "metadata": {},
   "outputs": [],
   "source": [
    "speedy_encoder = SpeedySpeech(30,100,4)"
   ]
  },
  {
   "cell_type": "code",
   "execution_count": 26,
   "metadata": {},
   "outputs": [],
   "source": [
    "config = load_config('./TTS/tts/configs/speedy_speech_ljspeech.json')"
   ]
  },
  {
   "cell_type": "code",
   "execution_count": 28,
   "metadata": {},
   "outputs": [],
   "source": [
    "config['datasets'][0]['path'] = './LJSpeech/LJSpeech-1.1'\n",
    "config['audio']['stats_path'] = None\n",
    "config['output_path'] = './lj_training_output/'\n",
    "with open('./TTS/tts/configs/my_config.json', 'w') as config_file:\n",
    "    json.dump(config, config_file)"
   ]
  },
  {
   "cell_type": "code",
   "execution_count": 25,
   "metadata": {
    "scrolled": true
   },
   "outputs": [
    {
     "ename": "SyntaxError",
     "evalue": "invalid syntax (<ipython-input-25-7f9d491bea32>, line 1)",
     "output_type": "error",
     "traceback": [
      "\u001b[0;36m  File \u001b[0;32m\"<ipython-input-25-7f9d491bea32>\"\u001b[0;36m, line \u001b[0;32m1\u001b[0m\n\u001b[0;31m    python TTS/bin/train_speedy_speech.py --config_path config.json | tee training.log\u001b[0m\n\u001b[0m           ^\u001b[0m\n\u001b[0;31mSyntaxError\u001b[0m\u001b[0;31m:\u001b[0m invalid syntax\n"
     ]
    }
   ],
   "source": [
    "python TTS/bin/train_speedy_speech.py --config_path my_config.json | tee training.log"
   ]
  },
  {
   "cell_type": "code",
   "execution_count": 12,
   "metadata": {},
   "outputs": [
    {
     "ename": "TypeError",
     "evalue": "train() missing 6 required positional arguments: 'criterion', 'optimizer', 'scheduler', 'ap', 'global_step', and 'epoch'",
     "output_type": "error",
     "traceback": [
      "\u001b[0;31m---------------------------------------------------------------------------\u001b[0m",
      "\u001b[0;31mTypeError\u001b[0m                                 Traceback (most recent call last)",
      "\u001b[0;32m<ipython-input-12-218845e8c5df>\u001b[0m in \u001b[0;36m<module>\u001b[0;34m\u001b[0m\n\u001b[0;32m----> 1\u001b[0;31m \u001b[0mtrain\u001b[0m\u001b[0;34m(\u001b[0m\u001b[0mdata\u001b[0m\u001b[0;34m,\u001b[0m\u001b[0mspeedy_encoder\u001b[0m\u001b[0;34m)\u001b[0m\u001b[0;34m\u001b[0m\u001b[0;34m\u001b[0m\u001b[0m\n\u001b[0m",
      "\u001b[0;31mTypeError\u001b[0m: train() missing 6 required positional arguments: 'criterion', 'optimizer', 'scheduler', 'ap', 'global_step', and 'epoch'"
     ]
    }
   ],
   "source": [
    "train(data,speedy_encoder)"
   ]
  },
  {
   "cell_type": "code",
   "execution_count": null,
   "metadata": {},
   "outputs": [],
   "source": []
  },
  {
   "cell_type": "code",
   "execution_count": null,
   "metadata": {},
   "outputs": [],
   "source": [
    "c = load_config(args.config_path)\n",
    "\n"
   ]
  }
 ],
 "metadata": {
  "kernelspec": {
   "display_name": "Python 3",
   "language": "python",
   "name": "python3"
  },
  "language_info": {
   "codemirror_mode": {
    "name": "ipython",
    "version": 3
   },
   "file_extension": ".py",
   "mimetype": "text/x-python",
   "name": "python",
   "nbconvert_exporter": "python",
   "pygments_lexer": "ipython3",
   "version": "3.8.3"
  }
 },
 "nbformat": 4,
 "nbformat_minor": 4
}
